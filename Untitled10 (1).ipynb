{
 "cells": [
  {
   "cell_type": "code",
   "execution_count": 74,
   "id": "5cf5c65f",
   "metadata": {},
   "outputs": [],
   "source": [
    "class rectangle:\n",
    "    def __init__(self,l,w):\n",
    "        self.length=l\n",
    "        self.width=w\n",
    "    def area(self):\n",
    "        return self.length*self.width\n",
    "    def per(self):\n",
    "        return 2*(self.length+self.width)    \n",
    "    "
   ]
  },
  {
   "cell_type": "code",
   "execution_count": 75,
   "id": "6d2c8822",
   "metadata": {},
   "outputs": [],
   "source": [
    "r=rectangle(2,4)"
   ]
  },
  {
   "cell_type": "code",
   "execution_count": 18,
   "id": "929e4181",
   "metadata": {},
   "outputs": [
    {
     "name": "stdout",
     "output_type": "stream",
     "text": [
      "8\n"
     ]
    }
   ],
   "source": [
    "print(r.area())"
   ]
  },
  {
   "cell_type": "code",
   "execution_count": 19,
   "id": "112c6965",
   "metadata": {},
   "outputs": [
    {
     "name": "stdout",
     "output_type": "stream",
     "text": [
      "12\n"
     ]
    }
   ],
   "source": [
    "print(r.per())"
   ]
  },
  {
   "cell_type": "code",
   "execution_count": 30,
   "id": "3bacc504",
   "metadata": {},
   "outputs": [],
   "source": [
    "class point3D:\n",
    "    def __init__(self,x,y,z):\n",
    "        self.x=x\n",
    "        self.y=y\n",
    "        self.z=z"
   ]
  },
  {
   "cell_type": "code",
   "execution_count": 36,
   "id": "e17c9c50",
   "metadata": {},
   "outputs": [
    {
     "name": "stdout",
     "output_type": "stream",
     "text": [
      "1 2 3\n"
     ]
    }
   ],
   "source": [
    "my_point=point3D(1,2,3)\n",
    "print(my_point.x, my_point.y, my_point.z)"
   ]
  },
  {
   "cell_type": "code",
   "execution_count": 2,
   "id": "70deec9b",
   "metadata": {},
   "outputs": [],
   "source": [
    "import math"
   ]
  },
  {
   "cell_type": "code",
   "execution_count": 26,
   "id": "9bc2c0d7",
   "metadata": {},
   "outputs": [
    {
     "name": "stdout",
     "output_type": "stream",
     "text": [
      "50.26548245743669 25.132741228718345\n",
      "is inside\n"
     ]
    }
   ],
   "source": [
    "class circle:\n",
    "    def __init__(self,r,x,y):\n",
    "        self.radius=r\n",
    "        self.center=x,y\n",
    "    def area(self):\n",
    "        return self.radius**2 *math.pi\n",
    "    def per(self):\n",
    "        return 2*self.radius*math.pi \n",
    "    def euc(self):\n",
    "        if math.dist([2,3],self.center)>self.radius:\n",
    "            print(\"not inside\")\n",
    "        else:\n",
    "            print(\"is inside\")\n",
    "c=circle(4,0,0)\n",
    "print(c.area(),c.per())\n",
    "c.euc()\n"
   ]
  },
  {
   "cell_type": "code",
   "execution_count": 77,
   "id": "23b943be",
   "metadata": {},
   "outputs": [
    {
     "name": "stdout",
     "output_type": "stream",
     "text": [
      "5\n",
      "105 95\n"
     ]
    }
   ],
   "source": [
    "class bank:\n",
    "    def __init__(self,b):\n",
    "        self.balance=b\n",
    "    def deposit(self):\n",
    "        return self.balance + x\n",
    "    def withdraw(self):\n",
    "        return self.balance - x\n",
    "b=bank(100)\n",
    "x = int(input())\n",
    "print(b.deposit(),b.withdraw())"
   ]
  },
  {
   "cell_type": "code",
   "execution_count": null,
   "id": "0d314133",
   "metadata": {},
   "outputs": [],
   "source": []
  }
 ],
 "metadata": {
  "kernelspec": {
   "display_name": "Python 3",
   "language": "python",
   "name": "python3"
  },
  "language_info": {
   "codemirror_mode": {
    "name": "ipython",
    "version": 3
   },
   "file_extension": ".py",
   "mimetype": "text/x-python",
   "name": "python",
   "nbconvert_exporter": "python",
   "pygments_lexer": "ipython3",
   "version": "3.8.8"
  }
 },
 "nbformat": 4,
 "nbformat_minor": 5
}
