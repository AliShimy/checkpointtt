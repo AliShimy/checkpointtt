{
  "nbformat": 4,
  "nbformat_minor": 0,
  "metadata": {
    "colab": {
      "name": "Untitled0.ipynb",
      "provenance": []
    },
    "kernelspec": {
      "name": "python3",
      "display_name": "Python 3"
    },
    "language_info": {
      "name": "python"
    }
  },
  "cells": [
    {
      "cell_type": "code",
      "metadata": {
        "colab": {
          "base_uri": "https://localhost:8080/"
        },
        "id": "aQwVoTXnmZ1B",
        "outputId": "cf4030e1-3490-4540-cb54-5a362df47507"
      },
      "source": [
        "def MAX(numbers):\n",
        "    return (max(numbers))\n",
        "      \n",
        "numbers = set([20,35,19])\n",
        "print(MAX(numbers))"
      ],
      "execution_count": null,
      "outputs": [
        {
          "output_type": "stream",
          "text": [
            "63\n"
          ],
          "name": "stdout"
        }
      ]
    },
    {
      "cell_type": "code",
      "metadata": {
        "colab": {
          "base_uri": "https://localhost:8080/"
        },
        "id": "Oy8ji-hunTxE",
        "outputId": "7a350412-b15b-42c9-adbc-01ebcab2d1af"
      },
      "source": [
        "def calculation(a, b):\n",
        "    return a+b, a-b\n",
        "\n",
        "output = calculation(14, 12)\n",
        "print(output)"
      ],
      "execution_count": null,
      "outputs": [
        {
          "output_type": "stream",
          "text": [
            "(26, 2)\n"
          ],
          "name": "stdout"
        }
      ]
    },
    {
      "cell_type": "code",
      "metadata": {
        "colab": {
          "base_uri": "https://localhost:8080/",
          "height": 126
        },
        "id": "5rYJYaHfyh85",
        "outputId": "b7007610-7cc3-43af-b4dd-b1bf47352c16"
      },
      "source": [
        "def multiplyList(myList) :\n",
        "    result = 1\n",
        "    for x in myList:\n",
        "         result = result * x\n",
        "    return result\n",
        "\n",
        "def additionlist(mylist) :\n",
        "    result = 0\n",
        "    for x in mylist:\n",
        "        result = result + x\n",
        "    return result\n",
        "\n",
        "\n",
        "def splitevenodd(A): \n",
        "   evenlist = [] \n",
        "   oddlist = [] \n",
        "   for i in A: \n",
        "      if (i % 2 == 0): \n",
        "         evenlist.append(i) \n",
        "      else: \n",
        "         oddlist.append(i)\n",
        "return list * list1"
      ],
      "execution_count": 4,
      "outputs": [
        {
          "output_type": "error",
          "ename": "SyntaxError",
          "evalue": "ignored",
          "traceback": [
            "\u001b[0;36m  File \u001b[0;32m\"<ipython-input-4-1c4571181767>\"\u001b[0;36m, line \u001b[0;32m22\u001b[0m\n\u001b[0;31m    return list * list1\u001b[0m\n\u001b[0m                       ^\u001b[0m\n\u001b[0;31mSyntaxError\u001b[0m\u001b[0;31m:\u001b[0m 'return' outside function\n"
          ]
        }
      ]
    },
    {
      "cell_type": "code",
      "metadata": {
        "id": "W1QAM5a6OEih",
        "colab": {
          "base_uri": "https://localhost:8080/"
        },
        "outputId": "9a765af8-b17c-492a-c10f-c8a5133772ef"
      },
      "source": [
        "items=[n for n in input().split('-')]\n",
        "items.sort()\n",
        "print('-'.join(items))"
      ],
      "execution_count": 3,
      "outputs": [
        {
          "output_type": "stream",
          "text": [
            "green-red-yellow-black-white\n",
            "black-green-red-white-yellow\n"
          ],
          "name": "stdout"
        }
      ]
    },
    {
      "cell_type": "code",
      "metadata": {
        "id": "IgWHj7UaUlq2"
      },
      "source": [
        ""
      ],
      "execution_count": null,
      "outputs": []
    }
  ]
}